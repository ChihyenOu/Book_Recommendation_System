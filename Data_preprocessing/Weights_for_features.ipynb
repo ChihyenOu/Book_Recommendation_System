{
 "cells": [
  {
   "cell_type": "markdown",
   "metadata": {
    "id": "9facMK52_7nU"
   },
   "source": [
    "# **This notebook is for feature weight training.**\n",
    "**- The best solution is from Logistic Regression**"
   ]
  },
  {
   "cell_type": "markdown",
   "metadata": {},
   "source": [
    "# 1. Data Preprocessing"
   ]
  },
  {
   "cell_type": "code",
   "execution_count": 62,
   "metadata": {
    "id": "A5dpVSqz5YEX"
   },
   "outputs": [],
   "source": [
    "import pandas as pd\n",
    "import numpy as np\n",
    "import warnings\n",
    "warnings.filterwarnings(\"ignore\")"
   ]
  },
  {
   "cell_type": "code",
   "execution_count": 63,
   "metadata": {
    "id": "-8h22qGH5YEa",
    "outputId": "6b72807a-7e27-409c-d43c-8031915723b7"
   },
   "outputs": [
    {
     "data": {
      "text/html": [
       "<div>\n",
       "<style scoped>\n",
       "    .dataframe tbody tr th:only-of-type {\n",
       "        vertical-align: middle;\n",
       "    }\n",
       "\n",
       "    .dataframe tbody tr th {\n",
       "        vertical-align: top;\n",
       "    }\n",
       "\n",
       "    .dataframe thead th {\n",
       "        text-align: right;\n",
       "    }\n",
       "</style>\n",
       "<table border=\"1\" class=\"dataframe\">\n",
       "  <thead>\n",
       "    <tr style=\"text-align: right;\">\n",
       "      <th></th>\n",
       "      <th>itemID_i</th>\n",
       "      <th>itemID_j</th>\n",
       "      <th>weight</th>\n",
       "      <th>language</th>\n",
       "      <th>author</th>\n",
       "      <th>title</th>\n",
       "      <th>main_topic</th>\n",
       "      <th>age</th>\n",
       "    </tr>\n",
       "  </thead>\n",
       "  <tbody>\n",
       "    <tr>\n",
       "      <th>0</th>\n",
       "      <td>14576</td>\n",
       "      <td>17731</td>\n",
       "      <td>6</td>\n",
       "      <td>1.0</td>\n",
       "      <td>1.0</td>\n",
       "      <td>1.335705</td>\n",
       "      <td>0.175094</td>\n",
       "      <td>0.0000</td>\n",
       "    </tr>\n",
       "    <tr>\n",
       "      <th>1</th>\n",
       "      <td>14576</td>\n",
       "      <td>4753</td>\n",
       "      <td>1</td>\n",
       "      <td>1.0</td>\n",
       "      <td>0.0</td>\n",
       "      <td>0.000000</td>\n",
       "      <td>0.000000</td>\n",
       "      <td>-0.9125</td>\n",
       "    </tr>\n",
       "    <tr>\n",
       "      <th>2</th>\n",
       "      <td>14576</td>\n",
       "      <td>50523</td>\n",
       "      <td>2</td>\n",
       "      <td>1.0</td>\n",
       "      <td>0.0</td>\n",
       "      <td>0.000000</td>\n",
       "      <td>0.000000</td>\n",
       "      <td>-0.9125</td>\n",
       "    </tr>\n",
       "    <tr>\n",
       "      <th>3</th>\n",
       "      <td>14576</td>\n",
       "      <td>6540</td>\n",
       "      <td>1</td>\n",
       "      <td>0.0</td>\n",
       "      <td>0.0</td>\n",
       "      <td>0.000000</td>\n",
       "      <td>0.000000</td>\n",
       "      <td>-0.0125</td>\n",
       "    </tr>\n",
       "    <tr>\n",
       "      <th>4</th>\n",
       "      <td>14576</td>\n",
       "      <td>72731</td>\n",
       "      <td>1</td>\n",
       "      <td>0.0</td>\n",
       "      <td>0.0</td>\n",
       "      <td>0.000000</td>\n",
       "      <td>0.000000</td>\n",
       "      <td>-0.9125</td>\n",
       "    </tr>\n",
       "  </tbody>\n",
       "</table>\n",
       "</div>"
      ],
      "text/plain": [
       "   itemID_i  itemID_j  weight  language  author     title  main_topic     age\n",
       "0     14576     17731       6       1.0     1.0  1.335705    0.175094  0.0000\n",
       "1     14576      4753       1       1.0     0.0  0.000000    0.000000 -0.9125\n",
       "2     14576     50523       2       1.0     0.0  0.000000    0.000000 -0.9125\n",
       "3     14576      6540       1       0.0     0.0  0.000000    0.000000 -0.0125\n",
       "4     14576     72731       1       0.0     0.0  0.000000    0.000000 -0.9125"
      ]
     },
     "execution_count": 63,
     "metadata": {},
     "output_type": "execute_result"
    }
   ],
   "source": [
    "trans_network = pd.read_csv('../Annotated_dataset/transaction_network_data_all.csv', sep=',')\n",
    "trans_network.head()"
   ]
  },
  {
   "cell_type": "code",
   "execution_count": 64,
   "metadata": {
    "id": "7DLD-nNk5YEb",
    "outputId": "3366bd39-374d-487f-a0bb-1be9c80162e7"
   },
   "outputs": [
    {
     "name": "stdout",
     "output_type": "stream",
     "text": [
      "303666\n"
     ]
    }
   ],
   "source": [
    "network_data = trans_network.copy()\n",
    "print(len(network_data))"
   ]
  },
  {
   "cell_type": "code",
   "execution_count": 65,
   "metadata": {
    "id": "bB_l-glJ5YEb",
    "outputId": "9d489547-a49f-43d0-a0eb-633ff609ef77"
   },
   "outputs": [
    {
     "name": "stdout",
     "output_type": "stream",
     "text": [
      "301349\n"
     ]
    },
    {
     "data": {
      "text/html": [
       "<div>\n",
       "<style scoped>\n",
       "    .dataframe tbody tr th:only-of-type {\n",
       "        vertical-align: middle;\n",
       "    }\n",
       "\n",
       "    .dataframe tbody tr th {\n",
       "        vertical-align: top;\n",
       "    }\n",
       "\n",
       "    .dataframe thead th {\n",
       "        text-align: right;\n",
       "    }\n",
       "</style>\n",
       "<table border=\"1\" class=\"dataframe\">\n",
       "  <thead>\n",
       "    <tr style=\"text-align: right;\">\n",
       "      <th></th>\n",
       "      <th>itemID_i</th>\n",
       "      <th>itemID_j</th>\n",
       "      <th>weight</th>\n",
       "      <th>language</th>\n",
       "      <th>author</th>\n",
       "      <th>title</th>\n",
       "      <th>main_topic</th>\n",
       "      <th>age</th>\n",
       "    </tr>\n",
       "  </thead>\n",
       "  <tbody>\n",
       "    <tr>\n",
       "      <th>0</th>\n",
       "      <td>14576</td>\n",
       "      <td>17731</td>\n",
       "      <td>6</td>\n",
       "      <td>1.0</td>\n",
       "      <td>1.0</td>\n",
       "      <td>1.335705</td>\n",
       "      <td>0.175094</td>\n",
       "      <td>0.0000</td>\n",
       "    </tr>\n",
       "    <tr>\n",
       "      <th>1</th>\n",
       "      <td>14576</td>\n",
       "      <td>4753</td>\n",
       "      <td>1</td>\n",
       "      <td>1.0</td>\n",
       "      <td>0.0</td>\n",
       "      <td>0.000000</td>\n",
       "      <td>0.000000</td>\n",
       "      <td>-0.9125</td>\n",
       "    </tr>\n",
       "    <tr>\n",
       "      <th>2</th>\n",
       "      <td>14576</td>\n",
       "      <td>50523</td>\n",
       "      <td>2</td>\n",
       "      <td>1.0</td>\n",
       "      <td>0.0</td>\n",
       "      <td>0.000000</td>\n",
       "      <td>0.000000</td>\n",
       "      <td>-0.9125</td>\n",
       "    </tr>\n",
       "    <tr>\n",
       "      <th>3</th>\n",
       "      <td>14576</td>\n",
       "      <td>6540</td>\n",
       "      <td>1</td>\n",
       "      <td>0.0</td>\n",
       "      <td>0.0</td>\n",
       "      <td>0.000000</td>\n",
       "      <td>0.000000</td>\n",
       "      <td>-0.0125</td>\n",
       "    </tr>\n",
       "    <tr>\n",
       "      <th>4</th>\n",
       "      <td>14576</td>\n",
       "      <td>72731</td>\n",
       "      <td>1</td>\n",
       "      <td>0.0</td>\n",
       "      <td>0.0</td>\n",
       "      <td>0.000000</td>\n",
       "      <td>0.000000</td>\n",
       "      <td>-0.9125</td>\n",
       "    </tr>\n",
       "  </tbody>\n",
       "</table>\n",
       "</div>"
      ],
      "text/plain": [
       "   itemID_i  itemID_j  weight  language  author     title  main_topic     age\n",
       "0     14576     17731       6       1.0     1.0  1.335705    0.175094  0.0000\n",
       "1     14576      4753       1       1.0     0.0  0.000000    0.000000 -0.9125\n",
       "2     14576     50523       2       1.0     0.0  0.000000    0.000000 -0.9125\n",
       "3     14576      6540       1       0.0     0.0  0.000000    0.000000 -0.0125\n",
       "4     14576     72731       1       0.0     0.0  0.000000    0.000000 -0.9125"
      ]
     },
     "execution_count": 65,
     "metadata": {},
     "output_type": "execute_result"
    }
   ],
   "source": [
    "#remove data which main topic is nan\n",
    "network_data.dropna(subset = [\"main_topic\"], inplace=True)\n",
    "print(len(network_data))\n",
    "network_data.head()"
   ]
  },
  {
   "cell_type": "code",
   "execution_count": 66,
   "metadata": {
    "id": "rCmjguZY5YEc",
    "outputId": "a1dc29b9-f926-4ac1-f54f-701c086a5c4a"
   },
   "outputs": [
    {
     "data": {
      "text/html": [
       "<div>\n",
       "<style scoped>\n",
       "    .dataframe tbody tr th:only-of-type {\n",
       "        vertical-align: middle;\n",
       "    }\n",
       "\n",
       "    .dataframe tbody tr th {\n",
       "        vertical-align: top;\n",
       "    }\n",
       "\n",
       "    .dataframe thead th {\n",
       "        text-align: right;\n",
       "    }\n",
       "</style>\n",
       "<table border=\"1\" class=\"dataframe\">\n",
       "  <thead>\n",
       "    <tr style=\"text-align: right;\">\n",
       "      <th></th>\n",
       "      <th>itemID_i</th>\n",
       "      <th>itemID_j</th>\n",
       "      <th>weight</th>\n",
       "      <th>language</th>\n",
       "      <th>author</th>\n",
       "      <th>title</th>\n",
       "      <th>main_topic</th>\n",
       "      <th>age</th>\n",
       "      <th>age_closeness</th>\n",
       "    </tr>\n",
       "  </thead>\n",
       "  <tbody>\n",
       "    <tr>\n",
       "      <th>0</th>\n",
       "      <td>14576</td>\n",
       "      <td>17731</td>\n",
       "      <td>6</td>\n",
       "      <td>1.0</td>\n",
       "      <td>1.0</td>\n",
       "      <td>1.335705</td>\n",
       "      <td>0.175094</td>\n",
       "      <td>0.0000</td>\n",
       "      <td>1.0000</td>\n",
       "    </tr>\n",
       "    <tr>\n",
       "      <th>1</th>\n",
       "      <td>14576</td>\n",
       "      <td>4753</td>\n",
       "      <td>1</td>\n",
       "      <td>1.0</td>\n",
       "      <td>0.0</td>\n",
       "      <td>0.000000</td>\n",
       "      <td>0.000000</td>\n",
       "      <td>-0.9125</td>\n",
       "      <td>0.0875</td>\n",
       "    </tr>\n",
       "    <tr>\n",
       "      <th>2</th>\n",
       "      <td>14576</td>\n",
       "      <td>50523</td>\n",
       "      <td>2</td>\n",
       "      <td>1.0</td>\n",
       "      <td>0.0</td>\n",
       "      <td>0.000000</td>\n",
       "      <td>0.000000</td>\n",
       "      <td>-0.9125</td>\n",
       "      <td>0.0875</td>\n",
       "    </tr>\n",
       "    <tr>\n",
       "      <th>3</th>\n",
       "      <td>14576</td>\n",
       "      <td>6540</td>\n",
       "      <td>1</td>\n",
       "      <td>0.0</td>\n",
       "      <td>0.0</td>\n",
       "      <td>0.000000</td>\n",
       "      <td>0.000000</td>\n",
       "      <td>-0.0125</td>\n",
       "      <td>0.9875</td>\n",
       "    </tr>\n",
       "    <tr>\n",
       "      <th>4</th>\n",
       "      <td>14576</td>\n",
       "      <td>72731</td>\n",
       "      <td>1</td>\n",
       "      <td>0.0</td>\n",
       "      <td>0.0</td>\n",
       "      <td>0.000000</td>\n",
       "      <td>0.000000</td>\n",
       "      <td>-0.9125</td>\n",
       "      <td>0.0875</td>\n",
       "    </tr>\n",
       "  </tbody>\n",
       "</table>\n",
       "</div>"
      ],
      "text/plain": [
       "   itemID_i  itemID_j  weight  language  author     title  main_topic     age  \\\n",
       "0     14576     17731       6       1.0     1.0  1.335705    0.175094  0.0000   \n",
       "1     14576      4753       1       1.0     0.0  0.000000    0.000000 -0.9125   \n",
       "2     14576     50523       2       1.0     0.0  0.000000    0.000000 -0.9125   \n",
       "3     14576      6540       1       0.0     0.0  0.000000    0.000000 -0.0125   \n",
       "4     14576     72731       1       0.0     0.0  0.000000    0.000000 -0.9125   \n",
       "\n",
       "   age_closeness  \n",
       "0         1.0000  \n",
       "1         0.0875  \n",
       "2         0.0875  \n",
       "3         0.9875  \n",
       "4         0.0875  "
      ]
     },
     "execution_count": 66,
     "metadata": {},
     "output_type": "execute_result"
    }
   ],
   "source": [
    "#calculate age closeness\n",
    "network_data['age_closeness'] = 1 - abs(network_data['age'])\n",
    "network_data.head()"
   ]
  },
  {
   "cell_type": "code",
   "execution_count": 67,
   "metadata": {
    "id": "SDSlqL3M5YEc",
    "outputId": "b01f0050-1094-416d-92a3-c94d33546078"
   },
   "outputs": [
    {
     "name": "stdout",
     "output_type": "stream",
     "text": [
      "        itemID_i  itemID_j  weight  language  author      title  main_topic  \\\n",
      "228842      9231     44709       1       1.0     0.0  75.604972    0.405403   \n",
      "\n",
      "        age  age_closeness  \n",
      "228842  0.0            1.0  \n"
     ]
    },
    {
     "data": {
      "text/plain": [
       "301348"
      ]
     },
     "execution_count": 67,
     "metadata": {},
     "output_type": "execute_result"
    }
   ],
   "source": [
    "#remove title outlier \n",
    "print(network_data.loc[network_data['title'] > 50])\n",
    "network_data = network_data.loc[network_data['title'] < 50]\n",
    "len(network_data)"
   ]
  },
  {
   "cell_type": "code",
   "execution_count": 68,
   "metadata": {
    "id": "3UIOelkh5YEd",
    "outputId": "1cae0158-b11a-4f35-e661-864c66d13e27"
   },
   "outputs": [
    {
     "name": "stdout",
     "output_type": "stream",
     "text": [
      "      itemID_i  itemID_j  weight  language  author  title  main_topic  age  \\\n",
      "3890     46998      2253     243       0.0     1.0    0.0    0.256717  0.0   \n",
      "\n",
      "      age_closeness  \n",
      "3890            1.0  \n"
     ]
    },
    {
     "data": {
      "text/plain": [
       "301347"
      ]
     },
     "execution_count": 68,
     "metadata": {},
     "output_type": "execute_result"
    }
   ],
   "source": [
    "#remove weight outlier\n",
    "print(network_data.loc[network_data['weight'] > 200])\n",
    "network_data = network_data.loc[network_data['weight'] < 200]\n",
    "len(network_data)"
   ]
  },
  {
   "cell_type": "code",
   "execution_count": 69,
   "metadata": {
    "id": "s8Pokml-5YEd",
    "outputId": "475d355b-1e7e-40a9-edce-f026c6262e64",
    "scrolled": true
   },
   "outputs": [
    {
     "data": {
      "text/html": [
       "<div>\n",
       "<style scoped>\n",
       "    .dataframe tbody tr th:only-of-type {\n",
       "        vertical-align: middle;\n",
       "    }\n",
       "\n",
       "    .dataframe tbody tr th {\n",
       "        vertical-align: top;\n",
       "    }\n",
       "\n",
       "    .dataframe thead th {\n",
       "        text-align: right;\n",
       "    }\n",
       "</style>\n",
       "<table border=\"1\" class=\"dataframe\">\n",
       "  <thead>\n",
       "    <tr style=\"text-align: right;\">\n",
       "      <th></th>\n",
       "      <th>itemID_i</th>\n",
       "      <th>itemID_j</th>\n",
       "      <th>weight</th>\n",
       "      <th>language</th>\n",
       "      <th>author</th>\n",
       "      <th>title</th>\n",
       "      <th>main_topic</th>\n",
       "      <th>age</th>\n",
       "      <th>age_closeness</th>\n",
       "    </tr>\n",
       "  </thead>\n",
       "  <tbody>\n",
       "    <tr>\n",
       "      <th>0</th>\n",
       "      <td>14576</td>\n",
       "      <td>17731</td>\n",
       "      <td>6</td>\n",
       "      <td>1.0</td>\n",
       "      <td>1.0</td>\n",
       "      <td>0.03094</td>\n",
       "      <td>0.175094</td>\n",
       "      <td>0.0000</td>\n",
       "      <td>1.0000</td>\n",
       "    </tr>\n",
       "    <tr>\n",
       "      <th>1</th>\n",
       "      <td>14576</td>\n",
       "      <td>4753</td>\n",
       "      <td>1</td>\n",
       "      <td>1.0</td>\n",
       "      <td>0.0</td>\n",
       "      <td>0.00000</td>\n",
       "      <td>0.000000</td>\n",
       "      <td>-0.9125</td>\n",
       "      <td>0.0875</td>\n",
       "    </tr>\n",
       "    <tr>\n",
       "      <th>2</th>\n",
       "      <td>14576</td>\n",
       "      <td>50523</td>\n",
       "      <td>2</td>\n",
       "      <td>1.0</td>\n",
       "      <td>0.0</td>\n",
       "      <td>0.00000</td>\n",
       "      <td>0.000000</td>\n",
       "      <td>-0.9125</td>\n",
       "      <td>0.0875</td>\n",
       "    </tr>\n",
       "    <tr>\n",
       "      <th>3</th>\n",
       "      <td>14576</td>\n",
       "      <td>6540</td>\n",
       "      <td>1</td>\n",
       "      <td>0.0</td>\n",
       "      <td>0.0</td>\n",
       "      <td>0.00000</td>\n",
       "      <td>0.000000</td>\n",
       "      <td>-0.0125</td>\n",
       "      <td>0.9875</td>\n",
       "    </tr>\n",
       "    <tr>\n",
       "      <th>4</th>\n",
       "      <td>14576</td>\n",
       "      <td>72731</td>\n",
       "      <td>1</td>\n",
       "      <td>0.0</td>\n",
       "      <td>0.0</td>\n",
       "      <td>0.00000</td>\n",
       "      <td>0.000000</td>\n",
       "      <td>-0.9125</td>\n",
       "      <td>0.0875</td>\n",
       "    </tr>\n",
       "  </tbody>\n",
       "</table>\n",
       "</div>"
      ],
      "text/plain": [
       "   itemID_i  itemID_j  weight  language  author    title  main_topic     age  \\\n",
       "0     14576     17731       6       1.0     1.0  0.03094    0.175094  0.0000   \n",
       "1     14576      4753       1       1.0     0.0  0.00000    0.000000 -0.9125   \n",
       "2     14576     50523       2       1.0     0.0  0.00000    0.000000 -0.9125   \n",
       "3     14576      6540       1       0.0     0.0  0.00000    0.000000 -0.0125   \n",
       "4     14576     72731       1       0.0     0.0  0.00000    0.000000 -0.9125   \n",
       "\n",
       "   age_closeness  \n",
       "0         1.0000  \n",
       "1         0.0875  \n",
       "2         0.0875  \n",
       "3         0.9875  \n",
       "4         0.0875  "
      ]
     },
     "execution_count": 69,
     "metadata": {},
     "output_type": "execute_result"
    }
   ],
   "source": [
    "#title normalization\n",
    "network_data['title'] = (network_data['title'] - network_data['title'].min()) / (network_data['title'].max() - network_data['title'].min())\n",
    "network_data.head()"
   ]
  },
  {
   "cell_type": "code",
   "execution_count": 70,
   "metadata": {
    "id": "HnbZpI5g5YEe",
    "outputId": "015162c6-f91b-425d-d720-4d6085d5394c"
   },
   "outputs": [
    {
     "data": {
      "text/html": [
       "<div>\n",
       "<style scoped>\n",
       "    .dataframe tbody tr th:only-of-type {\n",
       "        vertical-align: middle;\n",
       "    }\n",
       "\n",
       "    .dataframe tbody tr th {\n",
       "        vertical-align: top;\n",
       "    }\n",
       "\n",
       "    .dataframe thead th {\n",
       "        text-align: right;\n",
       "    }\n",
       "</style>\n",
       "<table border=\"1\" class=\"dataframe\">\n",
       "  <thead>\n",
       "    <tr style=\"text-align: right;\">\n",
       "      <th></th>\n",
       "      <th>itemID_i</th>\n",
       "      <th>itemID_j</th>\n",
       "      <th>weight</th>\n",
       "      <th>language</th>\n",
       "      <th>author</th>\n",
       "      <th>title</th>\n",
       "      <th>main_topic</th>\n",
       "      <th>age</th>\n",
       "      <th>age_closeness</th>\n",
       "    </tr>\n",
       "  </thead>\n",
       "  <tbody>\n",
       "    <tr>\n",
       "      <th>count</th>\n",
       "      <td>301347.000000</td>\n",
       "      <td>301347.000000</td>\n",
       "      <td>301347.000000</td>\n",
       "      <td>301347.000000</td>\n",
       "      <td>301347.000000</td>\n",
       "      <td>301347.000000</td>\n",
       "      <td>301347.000000</td>\n",
       "      <td>301347.000000</td>\n",
       "      <td>301347.000000</td>\n",
       "    </tr>\n",
       "    <tr>\n",
       "      <th>mean</th>\n",
       "      <td>39132.884386</td>\n",
       "      <td>39426.727042</td>\n",
       "      <td>1.408479</td>\n",
       "      <td>0.633074</td>\n",
       "      <td>0.069846</td>\n",
       "      <td>0.004201</td>\n",
       "      <td>0.332994</td>\n",
       "      <td>-0.003729</td>\n",
       "      <td>0.735848</td>\n",
       "    </tr>\n",
       "    <tr>\n",
       "      <th>std</th>\n",
       "      <td>22643.635041</td>\n",
       "      <td>22515.516846</td>\n",
       "      <td>2.470508</td>\n",
       "      <td>0.481967</td>\n",
       "      <td>0.254888</td>\n",
       "      <td>0.019684</td>\n",
       "      <td>0.363276</td>\n",
       "      <td>0.480855</td>\n",
       "      <td>0.401820</td>\n",
       "    </tr>\n",
       "    <tr>\n",
       "      <th>min</th>\n",
       "      <td>2.000000</td>\n",
       "      <td>1.000000</td>\n",
       "      <td>1.000000</td>\n",
       "      <td>0.000000</td>\n",
       "      <td>0.000000</td>\n",
       "      <td>0.000000</td>\n",
       "      <td>0.000000</td>\n",
       "      <td>-1.000000</td>\n",
       "      <td>0.000000</td>\n",
       "    </tr>\n",
       "    <tr>\n",
       "      <th>25%</th>\n",
       "      <td>19458.000000</td>\n",
       "      <td>20354.000000</td>\n",
       "      <td>1.000000</td>\n",
       "      <td>0.000000</td>\n",
       "      <td>0.000000</td>\n",
       "      <td>0.000000</td>\n",
       "      <td>0.000000</td>\n",
       "      <td>-0.012500</td>\n",
       "      <td>0.125000</td>\n",
       "    </tr>\n",
       "    <tr>\n",
       "      <th>50%</th>\n",
       "      <td>38902.000000</td>\n",
       "      <td>39394.000000</td>\n",
       "      <td>1.000000</td>\n",
       "      <td>1.000000</td>\n",
       "      <td>0.000000</td>\n",
       "      <td>0.000000</td>\n",
       "      <td>0.211067</td>\n",
       "      <td>0.000000</td>\n",
       "      <td>0.987500</td>\n",
       "    </tr>\n",
       "    <tr>\n",
       "      <th>75%</th>\n",
       "      <td>58765.000000</td>\n",
       "      <td>58691.000000</td>\n",
       "      <td>1.000000</td>\n",
       "      <td>1.000000</td>\n",
       "      <td>0.000000</td>\n",
       "      <td>0.000000</td>\n",
       "      <td>0.518656</td>\n",
       "      <td>0.012500</td>\n",
       "      <td>1.000000</td>\n",
       "    </tr>\n",
       "    <tr>\n",
       "      <th>max</th>\n",
       "      <td>79066.000000</td>\n",
       "      <td>79066.000000</td>\n",
       "      <td>191.000000</td>\n",
       "      <td>1.000000</td>\n",
       "      <td>1.000000</td>\n",
       "      <td>1.000000</td>\n",
       "      <td>1.000000</td>\n",
       "      <td>1.000000</td>\n",
       "      <td>1.000000</td>\n",
       "    </tr>\n",
       "  </tbody>\n",
       "</table>\n",
       "</div>"
      ],
      "text/plain": [
       "            itemID_i       itemID_j         weight       language  \\\n",
       "count  301347.000000  301347.000000  301347.000000  301347.000000   \n",
       "mean    39132.884386   39426.727042       1.408479       0.633074   \n",
       "std     22643.635041   22515.516846       2.470508       0.481967   \n",
       "min         2.000000       1.000000       1.000000       0.000000   \n",
       "25%     19458.000000   20354.000000       1.000000       0.000000   \n",
       "50%     38902.000000   39394.000000       1.000000       1.000000   \n",
       "75%     58765.000000   58691.000000       1.000000       1.000000   \n",
       "max     79066.000000   79066.000000     191.000000       1.000000   \n",
       "\n",
       "              author          title     main_topic            age  \\\n",
       "count  301347.000000  301347.000000  301347.000000  301347.000000   \n",
       "mean        0.069846       0.004201       0.332994      -0.003729   \n",
       "std         0.254888       0.019684       0.363276       0.480855   \n",
       "min         0.000000       0.000000       0.000000      -1.000000   \n",
       "25%         0.000000       0.000000       0.000000      -0.012500   \n",
       "50%         0.000000       0.000000       0.211067       0.000000   \n",
       "75%         0.000000       0.000000       0.518656       0.012500   \n",
       "max         1.000000       1.000000       1.000000       1.000000   \n",
       "\n",
       "       age_closeness  \n",
       "count  301347.000000  \n",
       "mean        0.735848  \n",
       "std         0.401820  \n",
       "min         0.000000  \n",
       "25%         0.125000  \n",
       "50%         0.987500  \n",
       "75%         1.000000  \n",
       "max         1.000000  "
      ]
     },
     "execution_count": 70,
     "metadata": {},
     "output_type": "execute_result"
    }
   ],
   "source": [
    "network_data.describe()"
   ]
  },
  {
   "cell_type": "markdown",
   "metadata": {},
   "source": [
    "## 1.1 Classifying Weight Value into 20 Groups Based on Weight Value"
   ]
  },
  {
   "cell_type": "code",
   "execution_count": 71,
   "metadata": {
    "id": "3RY9DhYL5YEe",
    "outputId": "3fdb3bc9-6030-41ee-bdd2-2e4c01793d3a"
   },
   "outputs": [
    {
     "data": {
      "text/plain": [
       "1      256592\n",
       "2       26161\n",
       "3        7716\n",
       "4        3610\n",
       "5        2020\n",
       "        ...  \n",
       "95          1\n",
       "96          1\n",
       "97          1\n",
       "98          1\n",
       "191         1\n",
       "Name: weight, Length: 115, dtype: int64"
      ]
     },
     "execution_count": 71,
     "metadata": {},
     "output_type": "execute_result"
    }
   ],
   "source": [
    "network_data['weight'].value_counts()"
   ]
  },
  {
   "cell_type": "code",
   "execution_count": 72,
   "metadata": {
    "id": "MWXbyzjx5YEe"
   },
   "outputs": [],
   "source": [
    "network_data_1 = network_data[network_data['weight'] == 1]\n",
    "network_data_2 = network_data[network_data['weight'] == 2]\n",
    "network_data_3 = network_data[network_data['weight'] == 3]\n",
    "network_data_4 = network_data[network_data['weight'] == 4]\n",
    "network_data_5 = network_data[network_data['weight'] == 5]\n",
    "network_data_6 = network_data[network_data['weight'] == 6]\n",
    "network_data_7 = network_data[network_data['weight'] == 7]\n",
    "network_data_8 = network_data[network_data['weight'] == 8]\n",
    "network_data_9 = network_data[network_data['weight'] == 9]\n",
    "network_data_10 = network_data[network_data['weight'] == 10]\n",
    "network_data_11 = network_data[network_data['weight'] == 11]\n",
    "network_data_12 = network_data[network_data['weight'] == 12]\n",
    "network_data_13 = network_data[network_data['weight'] == 13]\n",
    "network_data_14 = network_data[network_data['weight'] == 14]\n",
    "network_data_15 = network_data[network_data['weight'] == 15]\n",
    "network_data_16 = network_data[network_data['weight'] == 16]\n",
    "network_data_17 = network_data[network_data['weight'] == 17]\n",
    "network_data_18 = network_data[network_data['weight'] == 18]\n",
    "network_data_19 = network_data[network_data['weight'] == 19]\n",
    "network_data_20 = network_data[network_data['weight'] >= 20]"
   ]
  },
  {
   "cell_type": "code",
   "execution_count": 73,
   "metadata": {
    "id": "AlYeWDQJ5YEf",
    "outputId": "272ba927-a827-464b-bde6-3c245518c06e"
   },
   "outputs": [
    {
     "name": "stdout",
     "output_type": "stream",
     "text": [
      "256592\n",
      "26161\n",
      "7716\n",
      "3610\n",
      "2020\n",
      "1226\n",
      "855\n",
      "566\n",
      "418\n",
      "299\n",
      "260\n",
      "168\n",
      "139\n",
      "152\n",
      "140\n",
      "90\n",
      "78\n",
      "80\n",
      "72\n",
      "705\n"
     ]
    }
   ],
   "source": [
    "print(len(network_data_1))\n",
    "print(len(network_data_2))\n",
    "print(len(network_data_3))\n",
    "print(len(network_data_4))\n",
    "print(len(network_data_5))\n",
    "print(len(network_data_6))\n",
    "print(len(network_data_7))\n",
    "print(len(network_data_8))\n",
    "print(len(network_data_9))\n",
    "print(len(network_data_10))\n",
    "print(len(network_data_11))\n",
    "print(len(network_data_12))\n",
    "print(len(network_data_13))\n",
    "print(len(network_data_14))\n",
    "print(len(network_data_15))\n",
    "print(len(network_data_16))\n",
    "print(len(network_data_17))\n",
    "print(len(network_data_18))\n",
    "print(len(network_data_19))\n",
    "print(len(network_data_20))"
   ]
  },
  {
   "cell_type": "code",
   "execution_count": 74,
   "metadata": {
    "id": "VW-2rkYR5YEf",
    "outputId": "25699eaf-8718-4c13-e4b9-5291a8528969"
   },
   "outputs": [],
   "source": [
    "#give a value for each weight value\n",
    "network_data_1['weight'] = 0.7\n",
    "network_data_2['weight'] = 0.8\n",
    "network_data_3['weight'] = 0.85\n",
    "network_data_4['weight'] = 0.88\n",
    "network_data_5['weight'] = 0.9\n",
    "network_data_6['weight'] = 0.92\n",
    "network_data_7['weight'] = 0.935\n",
    "network_data_8['weight'] = 0.95\n",
    "network_data_9['weight'] = 0.96\n",
    "network_data_10['weight'] = 0.97\n",
    "network_data_11['weight'] = 0.975\n",
    "network_data_12['weight'] = 0.98\n",
    "network_data_13['weight'] = 0.984\n",
    "network_data_14['weight'] = 0.987\n",
    "network_data_15['weight'] = 0.99\n",
    "network_data_16['weight'] = 0.993\n",
    "network_data_17['weight'] = 0.995\n",
    "network_data_18['weight'] = 0.997\n",
    "network_data_19['weight'] = 0.999\n",
    "network_data_20['weight'] = 1.0"
   ]
  },
  {
   "cell_type": "code",
   "execution_count": 75,
   "metadata": {
    "id": "q7VMNG5H5YEf"
   },
   "outputs": [],
   "source": [
    "frames = [network_data_1, network_data_2, network_data_3, network_data_4, network_data_5, network_data_6, network_data_7, network_data_8, network_data_9, network_data_10, network_data_11, network_data_12, network_data_13, network_data_14, network_data_15, network_data_16, network_data_17, network_data_18, network_data_19, network_data_20]\n",
    "network_data = pd.concat(frames)"
   ]
  },
  {
   "cell_type": "code",
   "execution_count": 16,
   "metadata": {
    "id": "ZGuBTBEN5YEg"
   },
   "outputs": [],
   "source": [
    "network_data['weight'] = 1000 * network_data['weight']\n",
    "#change data type from string to integer\n",
    "network_data['weight'] = network_data['weight'].astype(int)"
   ]
  },
  {
   "cell_type": "code",
   "execution_count": 55,
   "metadata": {
    "id": "83rG0Yhd5YEg",
    "outputId": "48402384-6d69-4179-ba46-888e0bdc0205"
   },
   "outputs": [
    {
     "data": {
      "text/plain": [
       "700     256592\n",
       "800      26161\n",
       "850       7716\n",
       "880       3610\n",
       "900       2020\n",
       "920       1226\n",
       "935        855\n",
       "1000       705\n",
       "950        566\n",
       "960        418\n",
       "970        299\n",
       "975        260\n",
       "980        168\n",
       "987        152\n",
       "990        140\n",
       "984        139\n",
       "993         90\n",
       "997         80\n",
       "995         78\n",
       "999         72\n",
       "Name: weight, dtype: int64"
      ]
     },
     "execution_count": 55,
     "metadata": {},
     "output_type": "execute_result"
    }
   ],
   "source": [
    "network_data['weight'].value_counts()"
   ]
  },
  {
   "cell_type": "markdown",
   "metadata": {},
   "source": [
    "# 2. Find Suitable Feature Weight Using Different Models"
   ]
  },
  {
   "cell_type": "markdown",
   "metadata": {},
   "source": [
    "## 2.1 Linear Regression Model"
   ]
  },
  {
   "cell_type": "code",
   "execution_count": 18,
   "metadata": {
    "id": "6cnKyUc05YEg"
   },
   "outputs": [],
   "source": [
    "from sklearn import linear_model\n",
    "\n",
    "features = ['author', 'main_topic', 'age_closeness', 'title']\n",
    "target = 'weight'\n",
    "\n",
    "X = network_data[features].values.reshape(-1, len(features))\n",
    "y = network_data[target].values\n",
    "\n",
    "ols = linear_model.LinearRegression()\n",
    "model_R = ols.fit(X, y)"
   ]
  },
  {
   "cell_type": "code",
   "execution_count": 19,
   "metadata": {
    "id": "MiSvnvAe5YEg",
    "outputId": "20503ff4-2b0c-4513-e61a-a858e5637aad"
   },
   "outputs": [
    {
     "data": {
      "text/plain": [
       "array([62.06318465,  7.28170339,  2.52664965, 65.38744968])"
      ]
     },
     "execution_count": 19,
     "metadata": {},
     "output_type": "execute_result"
    }
   ],
   "source": [
    "model_R.coef_"
   ]
  },
  {
   "cell_type": "code",
   "execution_count": 20,
   "metadata": {
    "id": "BghRvlI-5YEh",
    "outputId": "dd25e85a-5c32-4d2c-d810-d13cb5cbb555"
   },
   "outputs": [
    {
     "data": {
      "text/plain": [
       "711.605271474522"
      ]
     },
     "execution_count": 20,
     "metadata": {},
     "output_type": "execute_result"
    }
   ],
   "source": [
    "model_R.intercept_"
   ]
  },
  {
   "cell_type": "code",
   "execution_count": 21,
   "metadata": {
    "id": "4Xdmmcnt5YEh",
    "outputId": "0a0fbf3c-d459-49be-ddc6-2a30f5892fb3"
   },
   "outputs": [
    {
     "data": {
      "text/plain": [
       "0.10037048954293348"
      ]
     },
     "execution_count": 21,
     "metadata": {},
     "output_type": "execute_result"
    }
   ],
   "source": [
    "#How good was your model? You can evaluate your model performance in a form of R-squared\n",
    "model_R.score(X, y)"
   ]
  },
  {
   "cell_type": "code",
   "execution_count": 22,
   "metadata": {
    "id": "ff46Ib6z5YEh",
    "outputId": "6a1ff650-b886-40f0-88b1-5181d3d8954f"
   },
   "outputs": [
    {
     "name": "stdout",
     "output_type": "stream",
     "text": [
      "Feature: author, Score: 62.06318\n",
      "Feature: main_topic, Score: 7.28170\n",
      "Feature: age_closeness, Score: 2.52665\n",
      "Feature: title, Score: 65.38745\n"
     ]
    },
    {
     "data": {
      "image/png": "[encoded data removed]",
      "text/plain": [
       "<Figure size 432x288 with 1 Axes>"
      ]
     },
     "metadata": {
      "needs_background": "light"
     },
     "output_type": "display_data"
    }
   ],
   "source": [
    "from matplotlib import pyplot\n",
    "\n",
    "importance_R = model_R.coef_\n",
    "# summarize feature importance\n",
    "for i,v in zip(features, importance_R):\n",
    "    print('Feature: %s, Score: %.5f' % (i,v))\n",
    "# plot feature importance\n",
    "pyplot.bar([x for x in range(len(importance_R))], importance_R)\n",
    "pyplot.show()"
   ]
  },
  {
   "cell_type": "markdown",
   "metadata": {},
   "source": [
    "## 2.2 Logistic Regression"
   ]
  },
  {
   "cell_type": "code",
   "execution_count": 50,
   "metadata": {
    "id": "-Tw9JJ3-5YEi",
    "outputId": "4078f8d9-b31b-480d-b688-c1d9a68b346f"
   },
   "outputs": [
    {
     "name": "stdout",
     "output_type": "stream",
     "text": [
      "Feature: author, Score: -2.53147\n",
      "Feature: main_topic, Score: -0.48123\n",
      "Feature: age_closeness, Score: -0.11004\n",
      "Feature: title, Score: -2.36961\n"
     ]
    },
    {
     "name": "stderr",
     "output_type": "stream",
     "text": [
      "/Users/chihyenou/DM/lib/python3.8/site-packages/sklearn/linear_model/_logistic.py:762: ConvergenceWarning: lbfgs failed to converge (status=1):\n",
      "STOP: TOTAL NO. of ITERATIONS REACHED LIMIT.\n",
      "\n",
      "Increase the number of iterations (max_iter) or scale the data as shown in:\n",
      "    https://scikit-learn.org/stable/modules/preprocessing.html\n",
      "Please also refer to the documentation for alternative solver options:\n",
      "    https://scikit-learn.org/stable/modules/linear_model.html#logistic-regression\n",
      "  n_iter_i = _check_optimize_result(\n"
     ]
    },
    {
     "data": {
      "image/png": "[encoded data removed]",
      "text/plain": [
       "<Figure size 432x288 with 1 Axes>"
      ]
     },
     "metadata": {},
     "output_type": "display_data"
    }
   ],
   "source": [
    "from sklearn.linear_model import LogisticRegression\n",
    "from matplotlib import pyplot\n",
    "\n",
    "features = ['author', 'main_topic', 'age_closeness', 'title']\n",
    "target = 'weight'\n",
    "\n",
    "X = network_data[features].values.reshape(-1, len(features))\n",
    "y = network_data[target].values\n",
    "\n",
    "model_LR = LogisticRegression()\n",
    "# fit the model\n",
    "model_LR.fit(X, y)\n",
    "# get importance\n",
    "importance_LR = model_LR.coef_[0]\n",
    "# summarize feature importance\n",
    "for i,v in zip(features, importance_LR):\n",
    "    print('Feature: %s, Score: %.5f' % (i,v))\n",
    "# plot feature importance\n",
    "pyplot.bar([x for x in range(len(importance_LR))], importance_LR)\n",
    "pyplot.show()"
   ]
  },
  {
   "cell_type": "code",
   "execution_count": 51,
   "metadata": {
    "id": "PO7UUvFC5YEi",
    "outputId": "8c34ab40-54a9-4efe-8529-feace3a1d7fe"
   },
   "outputs": [
    {
     "data": {
      "text/plain": [
       "array([ 6.77680827,  4.12041769,  2.67978096,  1.6957101 ,  1.19884176,\n",
       "        0.52358734,  0.11620619, -0.15227873, -0.64564285, -0.78411531,\n",
       "       -1.32117033, -1.30388671, -1.48890097, -1.74111163, -1.6461713 ,\n",
       "       -1.93175921, -2.10816988, -2.17839237, -1.67644099, -0.13331202])"
      ]
     },
     "execution_count": 51,
     "metadata": {},
     "output_type": "execute_result"
    }
   ],
   "source": [
    "model_LR.intercept_"
   ]
  },
  {
   "cell_type": "code",
   "execution_count": 56,
   "metadata": {
    "id": "OUYYoUXQ5YEi",
    "outputId": "6daa91a1-9e53-4356-85fd-1cb9a548efba"
   },
   "outputs": [
    {
     "data": {
      "text/plain": [
       "0.8514702319916907"
      ]
     },
     "execution_count": 56,
     "metadata": {},
     "output_type": "execute_result"
    }
   ],
   "source": [
    "#How good was your model? You can evaluate your model performance in a form of R-squared\n",
    "model_LR.score(X, y)"
   ]
  },
  {
   "cell_type": "markdown",
   "metadata": {},
   "source": [
    "## 2.3 Random Forest"
   ]
  },
  {
   "cell_type": "code",
   "execution_count": 29,
   "metadata": {
    "id": "OUIf29w45YEi",
    "outputId": "0d10220b-bc82-4c74-d074-39571e738910"
   },
   "outputs": [
    {
     "name": "stdout",
     "output_type": "stream",
     "text": [
      "Feature: author, Score: 0.43986\n",
      "Feature: main_topic, Score: 0.32761\n",
      "Feature: age_closeness, Score: 0.12228\n",
      "Feature: title, Score: 0.11024\n"
     ]
    },
    {
     "data": {
      "image/png": "[encoded data removed]",
      "text/plain": [
       "<Figure size 432x288 with 1 Axes>"
      ]
     },
     "metadata": {
      "needs_background": "light"
     },
     "output_type": "display_data"
    }
   ],
   "source": [
    "from sklearn.ensemble import RandomForestRegressor\n",
    "from matplotlib import pyplot\n",
    "\n",
    "# define dataset\n",
    "features = ['author', 'main_topic', 'age_closeness', 'title']\n",
    "target = 'weight'\n",
    "\n",
    "X = network_data[features].values.reshape(-1, len(features))\n",
    "y = network_data[target].values\n",
    "# define the model\n",
    "model = RandomForestRegressor()\n",
    "# fit the model\n",
    "model.fit(X, y)\n",
    "# get importance\n",
    "importance = model.feature_importances_\n",
    "# summarize feature importance\n",
    "for i,v in zip(features, importance):\n",
    "    print('Feature: %s, Score: %.5f' % (i,v))\n",
    "# plot feature importance\n",
    "pyplot.bar([x for x in range(len(importance))], importance)\n",
    "pyplot.show()"
   ]
  },
  {
   "cell_type": "code",
   "execution_count": 27,
   "metadata": {
    "colab": {
     "base_uri": "https://localhost:8080/",
     "height": 358
    },
    "id": "an04NwjJ0cFg",
    "outputId": "5c45cc6c-790e-47bc-c243-2b102fcbefb4"
   },
   "outputs": [
    {
     "data": {
      "text/plain": [
       "Text(0, 0.5, 'Importance Score')"
      ]
     },
     "execution_count": 27,
     "metadata": {},
     "output_type": "execute_result"
    },
    {
     "data": {
      "image/png": "[encoded data removed]",
      "text/plain": [
       "<Figure size 432x288 with 1 Axes>"
      ]
     },
     "metadata": {
      "needs_background": "light"
     },
     "output_type": "display_data"
    }
   ],
   "source": [
    "import numpy as np\n",
    "import matplotlib.pyplot as plt\n",
    "\n",
    "features = ['author', 'main_topic', 'age_closeness', 'title']\n",
    "y_pos = np.arange(len(features))\n",
    "y = [0.43945, 0.32826, 0.12226, 0.11002]\n",
    "\n",
    "#plt.figure(dpi=150)\n",
    "plt.bar(y_pos, y)\n",
    "plt.xticks(y_pos, features, rotation=90)\n",
    "plt.ylabel('Importance Score')"
   ]
  },
  {
   "cell_type": "code",
   "execution_count": 30,
   "metadata": {
    "id": "ptB2KvIH5YEj",
    "outputId": "98b45a0e-d614-4973-c8ca-a7f71d8b8a88"
   },
   "outputs": [
    {
     "data": {
      "text/plain": [
       "0.19814766136821638"
      ]
     },
     "execution_count": 30,
     "metadata": {},
     "output_type": "execute_result"
    }
   ],
   "source": [
    "#How good was your model? You can evaluate your model performance in a form of R-squared\n",
    "model.score(X, y)"
   ]
  },
  {
   "cell_type": "markdown",
   "metadata": {},
   "source": [
    "## 2.4 Save the Logistic Regression Model (with highest R-squared)"
   ]
  },
  {
   "cell_type": "code",
   "execution_count": 58,
   "metadata": {},
   "outputs": [],
   "source": [
    "import pickle\n",
    "\n",
    "# save the model to disk\n",
    "filename = '../Annotated_dataset/finalized_LR_model.sav'\n",
    "pickle.dump(model_LR, open(filename, 'wb'))"
   ]
  },
  {
   "cell_type": "code",
   "execution_count": 59,
   "metadata": {},
   "outputs": [
    {
     "name": "stdout",
     "output_type": "stream",
     "text": [
      "0.8514702319916907\n"
     ]
    }
   ],
   "source": [
    "# load the model from disk\n",
    "loaded_model = pickle.load(open(filename, 'rb'))\n",
    "result = loaded_model.score(X, y)\n",
    "print(result)"
   ]
  },
  {
   "cell_type": "markdown",
   "metadata": {
    "id": "x_wORtWhwzQ9"
   },
   "source": [
    "# 3. **Features' Correlation Matrix**"
   ]
  },
  {
   "cell_type": "code",
   "execution_count": 42,
   "metadata": {
    "colab": {
     "base_uri": "https://localhost:8080/",
     "height": 631
    },
    "id": "7n5kruMrucNk",
    "outputId": "a49c8e6f-2c71-4961-a490-c055192f177f"
   },
   "outputs": [
    {
     "data": {
      "text/plain": [
       "<AxesSubplot:>"
      ]
     },
     "execution_count": 42,
     "metadata": {},
     "output_type": "execute_result"
    },
    {
     "data": {
      "image/png": "[encoded data removed]",
      "text/plain": [
       "<Figure size 864x648 with 2 Axes>"
      ]
     },
     "metadata": {},
     "output_type": "display_data"
    }
   ],
   "source": [
    "#From the correlation matrix, author has higher correlation with weight which means\n",
    "#items with same author are more often bought together\n",
    "#Besides, lanaguge and publisher_cluster is highly correlated.\n",
    "#It is because that we group publisher_cluster based on language first, \n",
    "#then gave five sub-cluster for each language\n",
    "\n",
    "%matplotlib inline\n",
    "import matplotlib.pyplot as plt  # Matlab-style plotting\n",
    "import seaborn as sns\n",
    "color = sns.color_palette()\n",
    "sns.set_style('darkgrid')\n",
    "\n",
    "corr_network = network_data.copy()\n",
    "corr_network = corr_network.drop(columns=['itemID_i', 'itemID_j'])\n",
    "\n",
    "corrmat = corr_network.corr()\n",
    "plt.subplots(figsize=(12,9))\n",
    "sns.heatmap(corrmat, vmax=0.9, square=True)"
   ]
  }
 ],
 "metadata": {
  "colab": {
   "collapsed_sections": [
    "x_wORtWhwzQ9",
    "GTl1r5_Nw8f4",
    "wXroRSOT4gsj",
    "ojLzy4Gw2abA"
   ],
   "name": "Weights_for_features.ipynb",
   "provenance": []
  },
  "kernelspec": {
   "display_name": "Python 3",
   "language": "python",
   "name": "python3"
  },
  "language_info": {
   "codemirror_mode": {
    "name": "ipython",
    "version": 3
   },
   "file_extension": ".py",
   "mimetype": "text/x-python",
   "name": "python",
   "nbconvert_exporter": "python",
   "pygments_lexer": "ipython3",
   "version": "3.8.6"
  }
 },
 "nbformat": 4,
 "nbformat_minor": 1
}
