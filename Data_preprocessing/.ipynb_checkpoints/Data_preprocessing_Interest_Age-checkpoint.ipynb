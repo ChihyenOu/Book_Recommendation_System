{
 "cells": [
  {
   "cell_type": "markdown",
   "metadata": {
    "id": "ls88BT0xNFfX"
   },
   "source": [
    "# **This notebook is mainly for the Interest Age feature**\n",
    "## - Assumption: each user tend to buy books for similar age"
   ]
  },
  {
   "cell_type": "markdown",
   "metadata": {
    "id": "HP3YrC78NyVQ"
   },
   "source": [
    "# 1. Data Import"
   ]
  },
  {
   "cell_type": "code",
   "execution_count": 27,
   "metadata": {
    "id": "QKk1Ou_yTXP0"
   },
   "outputs": [],
   "source": [
    "import pandas as pd\n",
    "import numpy as np\n",
    "items_dataset = pd.read_csv('../Annotated_dataset/items_inc_lang.csv')"
   ]
  },
  {
   "cell_type": "code",
   "execution_count": 28,
   "metadata": {
    "colab": {
     "base_uri": "https://localhost:8080/",
     "height": 216
    },
    "id": "0kBjTq-z_65y",
    "outputId": "1caed0b6-cc7c-4255-92b6-1a4a19a5d279",
    "scrolled": true
   },
   "outputs": [
    {
     "name": "stdout",
     "output_type": "stream",
     "text": [
      "78030\n"
     ]
    },
    {
     "data": {
      "text/html": [
       "<div>\n",
       "<style scoped>\n",
       "    .dataframe tbody tr th:only-of-type {\n",
       "        vertical-align: middle;\n",
       "    }\n",
       "\n",
       "    .dataframe tbody tr th {\n",
       "        vertical-align: top;\n",
       "    }\n",
       "\n",
       "    .dataframe thead th {\n",
       "        text-align: right;\n",
       "    }\n",
       "</style>\n",
       "<table border=\"1\" class=\"dataframe\">\n",
       "  <thead>\n",
       "    <tr style=\"text-align: right;\">\n",
       "      <th></th>\n",
       "      <th>Unnamed: 0</th>\n",
       "      <th>itemID</th>\n",
       "      <th>title</th>\n",
       "      <th>author</th>\n",
       "      <th>publisher</th>\n",
       "      <th>main topic</th>\n",
       "      <th>subtopics</th>\n",
       "      <th>language</th>\n",
       "    </tr>\n",
       "  </thead>\n",
       "  <tbody>\n",
       "    <tr>\n",
       "      <th>0</th>\n",
       "      <td>0</td>\n",
       "      <td>21310</td>\n",
       "      <td>Princess Poppy: The Big Mix Up</td>\n",
       "      <td>Janey Louise Jones</td>\n",
       "      <td>Penguin Random House Children's UK</td>\n",
       "      <td>YFB</td>\n",
       "      <td>[5AH]</td>\n",
       "      <td>en</td>\n",
       "    </tr>\n",
       "    <tr>\n",
       "      <th>1</th>\n",
       "      <td>1</td>\n",
       "      <td>73018</td>\n",
       "      <td>Einfach zeichnen! Step by Step</td>\n",
       "      <td>Wiebke Krabbe</td>\n",
       "      <td>Schwager und Steinlein</td>\n",
       "      <td>AGZ</td>\n",
       "      <td>[5AJ,AGZ,WFA,YBG,YBL,YNA,YPA]</td>\n",
       "      <td>de</td>\n",
       "    </tr>\n",
       "    <tr>\n",
       "      <th>2</th>\n",
       "      <td>2</td>\n",
       "      <td>19194</td>\n",
       "      <td>Red Queen 1</td>\n",
       "      <td>Victoria Aveyard</td>\n",
       "      <td>Orion Publishing Group</td>\n",
       "      <td>YFH</td>\n",
       "      <td>[5AP,FBA]</td>\n",
       "      <td>en</td>\n",
       "    </tr>\n",
       "    <tr>\n",
       "      <th>3</th>\n",
       "      <td>3</td>\n",
       "      <td>40250</td>\n",
       "      <td>Meine Kindergarten-Freunde (Pirat)</td>\n",
       "      <td>NaN</td>\n",
       "      <td>Ars Edition GmbH</td>\n",
       "      <td>YB</td>\n",
       "      <td>[5AC,5AD,YBG,YBL,YF]</td>\n",
       "      <td>de</td>\n",
       "    </tr>\n",
       "    <tr>\n",
       "      <th>4</th>\n",
       "      <td>4</td>\n",
       "      <td>46107</td>\n",
       "      <td>Mein großes Schablonen-Buch - Wilde Tiere</td>\n",
       "      <td>Elizabeth Golding</td>\n",
       "      <td>Edition Michael Fischer</td>\n",
       "      <td>WFTM</td>\n",
       "      <td>[WD,WFTM,YBG,YBL,YBLD,YBLN1]</td>\n",
       "      <td>de</td>\n",
       "    </tr>\n",
       "  </tbody>\n",
       "</table>\n",
       "</div>"
      ],
      "text/plain": [
       "   Unnamed: 0  itemID                                      title  \\\n",
       "0           0   21310             Princess Poppy: The Big Mix Up   \n",
       "1           1   73018             Einfach zeichnen! Step by Step   \n",
       "2           2   19194                                Red Queen 1   \n",
       "3           3   40250         Meine Kindergarten-Freunde (Pirat)   \n",
       "4           4   46107  Mein großes Schablonen-Buch - Wilde Tiere   \n",
       "\n",
       "               author                           publisher main topic  \\\n",
       "0  Janey Louise Jones  Penguin Random House Children's UK        YFB   \n",
       "1       Wiebke Krabbe              Schwager und Steinlein        AGZ   \n",
       "2    Victoria Aveyard              Orion Publishing Group        YFH   \n",
       "3                 NaN                    Ars Edition GmbH         YB   \n",
       "4   Elizabeth Golding             Edition Michael Fischer       WFTM   \n",
       "\n",
       "                       subtopics language  \n",
       "0                          [5AH]       en  \n",
       "1  [5AJ,AGZ,WFA,YBG,YBL,YNA,YPA]       de  \n",
       "2                      [5AP,FBA]       en  \n",
       "3           [5AC,5AD,YBG,YBL,YF]       de  \n",
       "4   [WD,WFTM,YBG,YBL,YBLD,YBLN1]       de  "
      ]
     },
     "execution_count": 28,
     "metadata": {},
     "output_type": "execute_result"
    }
   ],
   "source": [
    "print(len(items_dataset))\n",
    "items_dataset.head()"
   ]
  },
  {
   "cell_type": "markdown",
   "metadata": {
    "id": "RtE9KUKdmJ8V"
   },
   "source": [
    "# 2. Add new columns **\"age_identifier\"** \n",
    "- based on subtopic start with \"5A\" and \"Y\"\n",
    "- [Note]: [The abbreviation is defined in the thema subject category](https://ns.editeur.org/thema/en)"
   ]
  },
  {
   "cell_type": "code",
   "execution_count": 29,
   "metadata": {
    "id": "YbYk9k5RJsf5"
   },
   "outputs": [],
   "source": [
    "import re\n",
    "\n",
    "item_data = items_dataset.copy()\n",
    "\n",
    "def remove_brackets(subtopic):\n",
    "    subtopic_list = str(subtopic).replace('[','').replace(']','')\n",
    "    return (subtopic_list.split(\",\")) \n",
    "\n",
    "#remove subtopic's brackets\n",
    "item_data.subtopics = item_data.subtopics.apply(remove_brackets)"
   ]
  },
  {
   "cell_type": "code",
   "execution_count": 30,
   "metadata": {
    "id": "uhBtNWyzFa2D"
   },
   "outputs": [],
   "source": [
    "#function for age_distribution\n",
    "age_distr = {}\n",
    "\n",
    "def age_distribution(subtopic):\n",
    "    if subtopic in age_distr:\n",
    "        age_distr[subtopic] += 1\n",
    "    else:\n",
    "        age_distr[subtopic] = 1\n",
    "    return(0)"
   ]
  },
  {
   "cell_type": "markdown",
   "metadata": {},
   "source": [
    "### 2.1 Function for Subtopic Starts with 5A (Age Identifier)\n",
    "- input: a subtopic\n",
    "- output: the value of the subtopic (in term of its category hierarchy)"
   ]
  },
  {
   "cell_type": "code",
   "execution_count": 31,
   "metadata": {
    "id": "C_U9BSl3-h2g"
   },
   "outputs": [],
   "source": [
    "#New version\n",
    "def age_identifier(subtopic5A):\n",
    "    third_position = subtopic5A[2]\n",
    "    \n",
    "    #Interest age: < 6 yrs old\n",
    "    if (third_position == 'B' or third_position == 'C' or third_position == 'D' \n",
    "        or third_position == 'F' or third_position == 'G'):\n",
    "        return (int('0'))\n",
    "    \n",
    "    #Interest age: 7-12 yrs old\n",
    "    elif (third_position == 'H' or third_position == 'J' or third_position == 'K' \n",
    "          or third_position == 'L' or third_position == 'M' or third_position == 'N'):\n",
    "        return (int('1'))\n",
    "    \n",
    "    #Interest age: 13-17 yrs old\n",
    "    elif (third_position == 'P' or third_position == 'Q' or third_position == 'R' \n",
    "          or third_position == 'S' or third_position == 'T' or third_position == 'U'):\n",
    "        return (int('2'))\n",
    "    \n",
    "    #Interest age: adult\n",
    "    elif (third_position == 'X'):\n",
    "        return (int('3'))\n",
    "    \n",
    "    #Others\n",
    "    else: #only 3 cases which has subtopic (5AZ: for people with learning/communication difficulties) run this statment\n",
    "        return (int('20')) #to represent if a case is in others type, its distance between age is very large"
   ]
  },
  {
   "cell_type": "markdown",
   "metadata": {},
   "source": [
    "### 2.2 Function for Subtopic Starts with Y (Children, Teenage)\n",
    "- input: a subtopic\n",
    "- output: the value of the subtopic (in term of its category hierarchy)"
   ]
  },
  {
   "cell_type": "code",
   "execution_count": 32,
   "metadata": {
    "id": "VJ5H4ikz-IvZ"
   },
   "outputs": [],
   "source": [
    "def Y_identifier(subtopicY):\n",
    "    if str(subtopicY) == 'nan': return ('N') #'None'\n",
    "    if not subtopicY.startswith('Y'): return (str('N'))\n",
    "    if (len(subtopicY) < 2): return (int(20))\n",
    "    second_position = subtopicY[1]\n",
    "\n",
    "    #Add to type (interest age < 6 yrs old) \n",
    "    #YB: Children's: picture books, activity books, early learning concept\n",
    "    if (second_position == 'B'):\n",
    "        return (int(0))\n",
    "    \n",
    "    #Those categories are for Children or Teenager\n",
    "    elif (second_position == 'D' or second_position == 'F' or second_position == 'N' \n",
    "          or second_position == 'R' or second_position == 'X' or second_position == 'Z'):\n",
    "        return (float(1.5)) #give an average score for this type (between 1 and 2)\n",
    "    \n",
    "    #YP: educational material. this type does not related to age\n",
    "    elif (second_position == 'P'):\n",
    "        return (int(20)) #others\n",
    "    \n",
    "    else:\n",
    "        print(subtopicY)\n",
    "        return (str('N')) #it should be N\n"
   ]
  },
  {
   "cell_type": "markdown",
   "metadata": {},
   "source": [
    "### 2.3 Function for Adding age_identifier Column\n",
    "- check if there is any age identifier in subtopic\n",
    "- if not, check if subtopic contains categories startwith Y"
   ]
  },
  {
   "cell_type": "code",
   "execution_count": 33,
   "metadata": {
    "colab": {
     "base_uri": "https://localhost:8080/"
    },
    "id": "8CBLdEJUSmt5",
    "outputId": "aa783c88-c791-4e3a-b0b5-caeeee109c0d"
   },
   "outputs": [],
   "source": [
    "def add_age_column(subtopic):\n",
    "    word = [text for text in subtopic if text.startswith('5A')]\n",
    "    \n",
    "    #cases with one age identifier, length of subtopic >= 3\n",
    "    if (len(word) == 1 and len(word[0]) >= 3):\n",
    "        result = [age_identifier(word[0])]\n",
    "        add = age_distribution(str(word[0][:3]))\n",
    "    \n",
    "    #cases with one age identifier which is 5A\n",
    "    elif (len(word) == 1 and len(word[0]) == 2): #two case's subtopic: 5A\n",
    "        add = age_distribution('others')\n",
    "        result = [int('20')]\n",
    "    \n",
    "    ##cases with many age identifier\n",
    "    elif (len(word) > 1):\n",
    "        result = [age_identifier(w) for w in word if len(w) >= 3]\n",
    "        rr = [int(20) for w in word if len(w) == 2]\n",
    "        for w in word:\n",
    "            if len(w) >= 3: add = age_distribution(str(w[:3]))\n",
    "            elif len(w) == 2: add = age_distribution('others')\n",
    "            else: add = age_distribution('false')\n",
    "            result = result + rr\n",
    "    \n",
    "    #cases without age identifier\n",
    "    else:\n",
    "        add = age_distribution('None')\n",
    "        #If there is no age identifier, \n",
    "        #directly consider if contain Y in subtopic\n",
    "        contain_Y = [text for text in subtopic if text.startswith('Y')]\n",
    "        if (len(contain_Y) > 0):\n",
    "            result = [Y_identifier(y) for y in contain_Y if (len(y) > 1)]\n",
    "            #no_result = [print('not a good label!') for y in contain_Y if (len(y) < 1)] #this case did not happen\n",
    "        else: \n",
    "            result = [str('N')]\n",
    "\n",
    "    return result"
   ]
  },
  {
   "cell_type": "markdown",
   "metadata": {},
   "source": [
    "### 2.4  Execute Function 2.1-2.3 and Add a New Column (age_identifier)"
   ]
  },
  {
   "cell_type": "code",
   "execution_count": 34,
   "metadata": {},
   "outputs": [
    {
     "name": "stdout",
     "output_type": "stream",
     "text": [
      "{'5AH': 930, '5AJ': 1224, '5AP': 473, '5AC': 728, '5AD': 703, 'None': 65482, '5AQ': 1591, '5AM': 346, '5AN': 2055, '5AK': 1367, '5AX': 514, '5AF': 1234, '5AG': 857, '5AL': 1047, '5AB': 259, 'others': 85, '5AT': 158, '5AR': 479, '5AS': 14, '5AZ': 3, '5AU': 3}\n"
     ]
    },
    {
     "data": {
      "text/html": [
       "<div>\n",
       "<style scoped>\n",
       "    .dataframe tbody tr th:only-of-type {\n",
       "        vertical-align: middle;\n",
       "    }\n",
       "\n",
       "    .dataframe tbody tr th {\n",
       "        vertical-align: top;\n",
       "    }\n",
       "\n",
       "    .dataframe thead th {\n",
       "        text-align: right;\n",
       "    }\n",
       "</style>\n",
       "<table border=\"1\" class=\"dataframe\">\n",
       "  <thead>\n",
       "    <tr style=\"text-align: right;\">\n",
       "      <th></th>\n",
       "      <th>Unnamed: 0</th>\n",
       "      <th>itemID</th>\n",
       "      <th>title</th>\n",
       "      <th>author</th>\n",
       "      <th>publisher</th>\n",
       "      <th>main topic</th>\n",
       "      <th>subtopics</th>\n",
       "      <th>language</th>\n",
       "      <th>age_identifier</th>\n",
       "    </tr>\n",
       "  </thead>\n",
       "  <tbody>\n",
       "    <tr>\n",
       "      <th>0</th>\n",
       "      <td>0</td>\n",
       "      <td>21310</td>\n",
       "      <td>Princess Poppy: The Big Mix Up</td>\n",
       "      <td>Janey Louise Jones</td>\n",
       "      <td>Penguin Random House Children's UK</td>\n",
       "      <td>YFB</td>\n",
       "      <td>[5AH]</td>\n",
       "      <td>en</td>\n",
       "      <td>[1]</td>\n",
       "    </tr>\n",
       "    <tr>\n",
       "      <th>1</th>\n",
       "      <td>1</td>\n",
       "      <td>73018</td>\n",
       "      <td>Einfach zeichnen! Step by Step</td>\n",
       "      <td>Wiebke Krabbe</td>\n",
       "      <td>Schwager und Steinlein</td>\n",
       "      <td>AGZ</td>\n",
       "      <td>[5AJ, AGZ, WFA, YBG, YBL, YNA, YPA]</td>\n",
       "      <td>de</td>\n",
       "      <td>[1]</td>\n",
       "    </tr>\n",
       "    <tr>\n",
       "      <th>2</th>\n",
       "      <td>2</td>\n",
       "      <td>19194</td>\n",
       "      <td>Red Queen 1</td>\n",
       "      <td>Victoria Aveyard</td>\n",
       "      <td>Orion Publishing Group</td>\n",
       "      <td>YFH</td>\n",
       "      <td>[5AP, FBA]</td>\n",
       "      <td>en</td>\n",
       "      <td>[2]</td>\n",
       "    </tr>\n",
       "    <tr>\n",
       "      <th>3</th>\n",
       "      <td>3</td>\n",
       "      <td>40250</td>\n",
       "      <td>Meine Kindergarten-Freunde (Pirat)</td>\n",
       "      <td>NaN</td>\n",
       "      <td>Ars Edition GmbH</td>\n",
       "      <td>YB</td>\n",
       "      <td>[5AC, 5AD, YBG, YBL, YF]</td>\n",
       "      <td>de</td>\n",
       "      <td>[0, 0]</td>\n",
       "    </tr>\n",
       "    <tr>\n",
       "      <th>4</th>\n",
       "      <td>4</td>\n",
       "      <td>46107</td>\n",
       "      <td>Mein großes Schablonen-Buch - Wilde Tiere</td>\n",
       "      <td>Elizabeth Golding</td>\n",
       "      <td>Edition Michael Fischer</td>\n",
       "      <td>WFTM</td>\n",
       "      <td>[WD, WFTM, YBG, YBL, YBLD, YBLN1]</td>\n",
       "      <td>de</td>\n",
       "      <td>[0, 0, 0, 0]</td>\n",
       "    </tr>\n",
       "  </tbody>\n",
       "</table>\n",
       "</div>"
      ],
      "text/plain": [
       "   Unnamed: 0  itemID                                      title  \\\n",
       "0           0   21310             Princess Poppy: The Big Mix Up   \n",
       "1           1   73018             Einfach zeichnen! Step by Step   \n",
       "2           2   19194                                Red Queen 1   \n",
       "3           3   40250         Meine Kindergarten-Freunde (Pirat)   \n",
       "4           4   46107  Mein großes Schablonen-Buch - Wilde Tiere   \n",
       "\n",
       "               author                           publisher main topic  \\\n",
       "0  Janey Louise Jones  Penguin Random House Children's UK        YFB   \n",
       "1       Wiebke Krabbe              Schwager und Steinlein        AGZ   \n",
       "2    Victoria Aveyard              Orion Publishing Group        YFH   \n",
       "3                 NaN                    Ars Edition GmbH         YB   \n",
       "4   Elizabeth Golding             Edition Michael Fischer       WFTM   \n",
       "\n",
       "                             subtopics language age_identifier  \n",
       "0                                [5AH]       en            [1]  \n",
       "1  [5AJ, AGZ, WFA, YBG, YBL, YNA, YPA]       de            [1]  \n",
       "2                           [5AP, FBA]       en            [2]  \n",
       "3             [5AC, 5AD, YBG, YBL, YF]       de         [0, 0]  \n",
       "4    [WD, WFTM, YBG, YBL, YBLD, YBLN1]       de   [0, 0, 0, 0]  "
      ]
     },
     "execution_count": 34,
     "metadata": {},
     "output_type": "execute_result"
    }
   ],
   "source": [
    "age_distr = {}\n",
    "item_wo_age = []\n",
    "item_data['age_identifier'] = item_data.subtopics.apply(add_age_column)\n",
    "#item_data['age_identifier'] = [add_age_column(subtopic, itemID) for itemID, subtopic in zip(item_data.itemID, item_data.age_identifier)]\n",
    "print(age_distr)\n",
    "item_data.head()"
   ]
  },
  {
   "cell_type": "markdown",
   "metadata": {
    "id": "RWmOM214HdB6"
   },
   "source": [
    "### 2.5 Plot Age_identifier Distribution (based on subtopic)"
   ]
  },
  {
   "cell_type": "code",
   "execution_count": 35,
   "metadata": {
    "colab": {
     "base_uri": "https://localhost:8080/",
     "height": 595
    },
    "id": "zvTudAvRQD-7",
    "outputId": "676c4c49-9ee5-4636-86c5-4d3ffae8e7fd"
   },
   "outputs": [
    {
     "name": "stdout",
     "output_type": "stream",
     "text": [
      "{'5AB': 259, '5AC': 728, '5AD': 703, '5AF': 1234, '5AG': 857, '5AH': 930, '5AJ': 1224, '5AK': 1367, '5AL': 1047, '5AM': 346, '5AN': 2055, '5AP': 473, '5AQ': 1591, '5AR': 479, '5AS': 14, '5AT': 158, '5AU': 3, '5AX': 514, '5AZ': 3, 'None': 65482, 'others': 85}\n"
     ]
    },
    {
     "data": {
      "image/png": "[encoded data removed]",
      "text/plain": [
       "<Figure size 800x640 with 1 Axes>"
      ]
     },
     "metadata": {
      "needs_background": "light"
     },
     "output_type": "display_data"
    }
   ],
   "source": [
    "import matplotlib.pyplot as plt\n",
    "from matplotlib.pyplot import figure\n",
    "\n",
    "age_copy = age_distr.copy()\n",
    "\n",
    "age_distr_without_None = {}\n",
    "for i in sorted(age_copy):\n",
    "    age_distr_without_None[i] = age_copy[i]\n",
    "print(age_distr_without_None)\n",
    "\n",
    "del age_distr_without_None['None'] #65482\n",
    "keys = age_distr_without_None.keys()\n",
    "values = age_distr_without_None.values()\n",
    "\n",
    "figure(figsize=(10, 8), dpi=80)\n",
    "# displaying the title\n",
    "plt.title(\"Age Identifier (5A) Distribution\", fontsize = 20)\n",
    "plt.bar(keys, values)\n",
    "\n",
    "for index in age_distr_without_None:\n",
    "    plt.text(index, age_distr_without_None[index] + 20, str(age_distr_without_None[index]))"
   ]
  },
  {
   "cell_type": "markdown",
   "metadata": {},
   "source": [
    "## 3. Add a New Column contain_Y\n",
    "- since topic also contains some information about age\n",
    "- check if there is topic starts with Y (to reduce \"None\" case)"
   ]
  },
  {
   "cell_type": "markdown",
   "metadata": {
    "id": "p0aqaxVlHvpc"
   },
   "source": [
    "### 3.1 Check If Main Topic Contain Y"
   ]
  },
  {
   "cell_type": "code",
   "execution_count": 36,
   "metadata": {
    "id": "q5z_KpDyHu4l"
   },
   "outputs": [],
   "source": [
    "item_data['contain_Y'] = 'None'\n",
    "item_data['contain_Y'] = [[Y_identifier(topic)] for topic in item_data['main topic']]"
   ]
  },
  {
   "cell_type": "code",
   "execution_count": 37,
   "metadata": {
    "colab": {
     "base_uri": "https://localhost:8080/",
     "height": 348
    },
    "id": "XXv5KqgJQi1P",
    "outputId": "71807c6f-a9c2-494a-9399-c55c87a8b7d9"
   },
   "outputs": [
    {
     "data": {
      "text/html": [
       "<div>\n",
       "<style scoped>\n",
       "    .dataframe tbody tr th:only-of-type {\n",
       "        vertical-align: middle;\n",
       "    }\n",
       "\n",
       "    .dataframe tbody tr th {\n",
       "        vertical-align: top;\n",
       "    }\n",
       "\n",
       "    .dataframe thead th {\n",
       "        text-align: right;\n",
       "    }\n",
       "</style>\n",
       "<table border=\"1\" class=\"dataframe\">\n",
       "  <thead>\n",
       "    <tr style=\"text-align: right;\">\n",
       "      <th></th>\n",
       "      <th>Unnamed: 0</th>\n",
       "      <th>itemID</th>\n",
       "      <th>title</th>\n",
       "      <th>author</th>\n",
       "      <th>publisher</th>\n",
       "      <th>main topic</th>\n",
       "      <th>subtopics</th>\n",
       "      <th>language</th>\n",
       "      <th>age_identifier</th>\n",
       "      <th>contain_Y</th>\n",
       "    </tr>\n",
       "  </thead>\n",
       "  <tbody>\n",
       "    <tr>\n",
       "      <th>0</th>\n",
       "      <td>0</td>\n",
       "      <td>21310</td>\n",
       "      <td>Princess Poppy: The Big Mix Up</td>\n",
       "      <td>Janey Louise Jones</td>\n",
       "      <td>Penguin Random House Children's UK</td>\n",
       "      <td>YFB</td>\n",
       "      <td>[5AH]</td>\n",
       "      <td>en</td>\n",
       "      <td>[1]</td>\n",
       "      <td>[1.5]</td>\n",
       "    </tr>\n",
       "    <tr>\n",
       "      <th>1</th>\n",
       "      <td>1</td>\n",
       "      <td>73018</td>\n",
       "      <td>Einfach zeichnen! Step by Step</td>\n",
       "      <td>Wiebke Krabbe</td>\n",
       "      <td>Schwager und Steinlein</td>\n",
       "      <td>AGZ</td>\n",
       "      <td>[5AJ, AGZ, WFA, YBG, YBL, YNA, YPA]</td>\n",
       "      <td>de</td>\n",
       "      <td>[1]</td>\n",
       "      <td>[N]</td>\n",
       "    </tr>\n",
       "    <tr>\n",
       "      <th>2</th>\n",
       "      <td>2</td>\n",
       "      <td>19194</td>\n",
       "      <td>Red Queen 1</td>\n",
       "      <td>Victoria Aveyard</td>\n",
       "      <td>Orion Publishing Group</td>\n",
       "      <td>YFH</td>\n",
       "      <td>[5AP, FBA]</td>\n",
       "      <td>en</td>\n",
       "      <td>[2]</td>\n",
       "      <td>[1.5]</td>\n",
       "    </tr>\n",
       "    <tr>\n",
       "      <th>3</th>\n",
       "      <td>3</td>\n",
       "      <td>40250</td>\n",
       "      <td>Meine Kindergarten-Freunde (Pirat)</td>\n",
       "      <td>NaN</td>\n",
       "      <td>Ars Edition GmbH</td>\n",
       "      <td>YB</td>\n",
       "      <td>[5AC, 5AD, YBG, YBL, YF]</td>\n",
       "      <td>de</td>\n",
       "      <td>[0, 0]</td>\n",
       "      <td>[0]</td>\n",
       "    </tr>\n",
       "    <tr>\n",
       "      <th>4</th>\n",
       "      <td>4</td>\n",
       "      <td>46107</td>\n",
       "      <td>Mein großes Schablonen-Buch - Wilde Tiere</td>\n",
       "      <td>Elizabeth Golding</td>\n",
       "      <td>Edition Michael Fischer</td>\n",
       "      <td>WFTM</td>\n",
       "      <td>[WD, WFTM, YBG, YBL, YBLD, YBLN1]</td>\n",
       "      <td>de</td>\n",
       "      <td>[0, 0, 0, 0]</td>\n",
       "      <td>[N]</td>\n",
       "    </tr>\n",
       "  </tbody>\n",
       "</table>\n",
       "</div>"
      ],
      "text/plain": [
       "   Unnamed: 0  itemID                                      title  \\\n",
       "0           0   21310             Princess Poppy: The Big Mix Up   \n",
       "1           1   73018             Einfach zeichnen! Step by Step   \n",
       "2           2   19194                                Red Queen 1   \n",
       "3           3   40250         Meine Kindergarten-Freunde (Pirat)   \n",
       "4           4   46107  Mein großes Schablonen-Buch - Wilde Tiere   \n",
       "\n",
       "               author                           publisher main topic  \\\n",
       "0  Janey Louise Jones  Penguin Random House Children's UK        YFB   \n",
       "1       Wiebke Krabbe              Schwager und Steinlein        AGZ   \n",
       "2    Victoria Aveyard              Orion Publishing Group        YFH   \n",
       "3                 NaN                    Ars Edition GmbH         YB   \n",
       "4   Elizabeth Golding             Edition Michael Fischer       WFTM   \n",
       "\n",
       "                             subtopics language age_identifier contain_Y  \n",
       "0                                [5AH]       en            [1]     [1.5]  \n",
       "1  [5AJ, AGZ, WFA, YBG, YBL, YNA, YPA]       de            [1]       [N]  \n",
       "2                           [5AP, FBA]       en            [2]     [1.5]  \n",
       "3             [5AC, 5AD, YBG, YBL, YF]       de         [0, 0]       [0]  \n",
       "4    [WD, WFTM, YBG, YBL, YBLD, YBLN1]       de   [0, 0, 0, 0]       [N]  "
      ]
     },
     "execution_count": 37,
     "metadata": {},
     "output_type": "execute_result"
    }
   ],
   "source": [
    "item_data.head()"
   ]
  },
  {
   "cell_type": "markdown",
   "metadata": {},
   "source": [
    "## 4. Add a Column age (as the Final Value for Each Case)"
   ]
  },
  {
   "cell_type": "code",
   "execution_count": 38,
   "metadata": {
    "id": "BwpLUSMbXHDI"
   },
   "outputs": [],
   "source": [
    "#combine the value of age-identifier and contain_Y\n",
    "item_data['age'] = item_data['age_identifier'] + item_data['contain_Y']"
   ]
  },
  {
   "cell_type": "code",
   "execution_count": 39,
   "metadata": {
    "id": "2drfKxrRKURL"
   },
   "outputs": [],
   "source": [
    "def remove_None(data):\n",
    "    value = 'N'\n",
    "    while value in data:\n",
    "        data.remove(value)\n",
    "    if (len(data) == 0): return (str('None'))\n",
    "    return (data)"
   ]
  },
  {
   "cell_type": "code",
   "execution_count": 40,
   "metadata": {
    "colab": {
     "base_uri": "https://localhost:8080/"
    },
    "id": "hwfnUMp1IvCT",
    "outputId": "3034107d-bf35-4c93-ff36-1078fdd1c092"
   },
   "outputs": [
    {
     "name": "stdout",
     "output_type": "stream",
     "text": [
      "0        [1, 1.5]\n",
      "1             [1]\n",
      "2        [2, 1.5]\n",
      "3       [0, 0, 0]\n",
      "4    [0, 0, 0, 0]\n",
      "Name: age, dtype: object\n"
     ]
    }
   ],
   "source": [
    "#remove N from the list\n",
    "item_data['age'] = item_data['age'].apply(remove_None)\n",
    "print(item_data['age'].head())"
   ]
  },
  {
   "cell_type": "markdown",
   "metadata": {},
   "source": [
    "### 4.1 Calculate the list mean"
   ]
  },
  {
   "cell_type": "code",
   "execution_count": 41,
   "metadata": {
    "id": "MX8MZrZNPyyx"
   },
   "outputs": [],
   "source": [
    "def calculate_mean(age_list):\n",
    "    if age_list != 'None':\n",
    "        return(mean(age_list))\n",
    "    else:\n",
    "        return age_list"
   ]
  },
  {
   "cell_type": "code",
   "execution_count": 42,
   "metadata": {
    "colab": {
     "base_uri": "https://localhost:8080/"
    },
    "id": "1RCDgj_ULCFl",
    "outputId": "894cfae4-2ddf-476b-cfdc-306b53cfce60"
   },
   "outputs": [
    {
     "name": "stdout",
     "output_type": "stream",
     "text": [
      "0    1.25\n",
      "1       1\n",
      "2    1.75\n",
      "3       0\n",
      "4       0\n",
      "Name: age, dtype: object\n"
     ]
    }
   ],
   "source": [
    "from statistics import mean\n",
    "\n",
    "item_data['age'] = item_data['age'].apply(calculate_mean)\n",
    "print(item_data['age'].head())"
   ]
  },
  {
   "cell_type": "code",
   "execution_count": 44,
   "metadata": {
    "colab": {
     "base_uri": "https://localhost:8080/"
    },
    "id": "-BwD6M5CS3qL",
    "outputId": "e6fa690b-b283-4f2f-bb1e-a7252ec16355"
   },
   "outputs": [
    {
     "data": {
      "text/plain": [
       "26441"
      ]
     },
     "execution_count": 44,
     "metadata": {},
     "output_type": "execute_result"
    }
   ],
   "source": [
    "#Check the number of case without age information\n",
    "item_data['age'].loc[item_data['age'] == 'None'].count() #26441"
   ]
  },
  {
   "cell_type": "markdown",
   "metadata": {},
   "source": [
    "### 4.2 Plot the Final Age Distribution"
   ]
  },
  {
   "cell_type": "code",
   "execution_count": 52,
   "metadata": {
    "colab": {
     "base_uri": "https://localhost:8080/",
     "height": 631
    },
    "id": "WNYsDelXXq-B",
    "outputId": "0cc22e22-3fbb-4244-9a58-44d93313acff"
   },
   "outputs": [
    {
     "data": {
      "text/plain": [
       "<BarContainer object of 89 artists>"
      ]
     },
     "execution_count": 52,
     "metadata": {},
     "output_type": "execute_result"
    },
    {
     "data": {
      "image/png": "[encoded data removed]",
      "text/plain": [
       "<Figure size 800x640 with 1 Axes>"
      ]
     },
     "metadata": {
      "needs_background": "light"
     },
     "output_type": "display_data"
    }
   ],
   "source": [
    "import matplotlib.pyplot as plt\n",
    "from matplotlib.pyplot import figure\n",
    "\n",
    "plot_interest_age = item_data.copy()\n",
    "age_c = {}\n",
    "\n",
    "def age_cc(interest_age):\n",
    "    if interest_age in age_c:\n",
    "        age_c[interest_age] += 1\n",
    "    else:\n",
    "        age_c[interest_age] = 1\n",
    "    return(0)\n",
    "\n",
    "ok = [age_cc(in_age) for in_age in plot_interest_age['age']]\n",
    "#print(age_c)\n",
    "\n",
    "age_value = {}\n",
    "del age_c['None']\n",
    "for i in sorted(age_c):\n",
    "    age_value[i] = age_c[i]\n",
    "#print(age_value) #print the number of case that are in each average value\n",
    "\n",
    "keys = age_value.keys()\n",
    "values = age_value.values()\n",
    "\n",
    "figure(figsize=(10, 8), dpi=80)\n",
    "# displaying the title\n",
    "plt.title(\"Age Distribution\", fontsize = 20)\n",
    "plt.bar(keys, values)"
   ]
  },
  {
   "cell_type": "code",
   "execution_count": 55,
   "metadata": {
    "colab": {
     "base_uri": "https://localhost:8080/",
     "height": 427
    },
    "id": "MQRZ4Za1gcrQ",
    "outputId": "c9238cfd-af45-42cd-ada1-876a85c28263"
   },
   "outputs": [
    {
     "data": {
      "text/plain": [
       "{'whiskers': [<matplotlib.lines.Line2D at 0x7fceb2c9de50>,\n",
       "  <matplotlib.lines.Line2D at 0x7fceb2cb61f0>],\n",
       " 'caps': [<matplotlib.lines.Line2D at 0x7fceb2cb6550>,\n",
       "  <matplotlib.lines.Line2D at 0x7fceb2cb68b0>],\n",
       " 'boxes': [<matplotlib.lines.Line2D at 0x7fceb2c9daf0>],\n",
       " 'medians': [<matplotlib.lines.Line2D at 0x7fceb2cb6be0>],\n",
       " 'fliers': [<matplotlib.lines.Line2D at 0x7fceb2cb6f10>],\n",
       " 'means': []}"
      ]
     },
     "execution_count": 55,
     "metadata": {},
     "output_type": "execute_result"
    },
    {
     "data": {
      "image/png": "[encoded data removed]",
      "text/plain": [
       "<Figure size 432x288 with 1 Axes>"
      ]
     },
     "metadata": {
      "needs_background": "light"
     },
     "output_type": "display_data"
    }
   ],
   "source": [
    "plt.title(\"Interest Age Boxplot\", fontsize = 14)\n",
    "plt.boxplot(keys, values)"
   ]
  },
  {
   "cell_type": "markdown",
   "metadata": {
    "id": "8w7wO9Hq0F_M"
   },
   "source": [
    "## 5. Create New Item Dataset (includes age information)"
   ]
  },
  {
   "cell_type": "code",
   "execution_count": 54,
   "metadata": {
    "id": "K0xqn0VAnGa4"
   },
   "outputs": [
    {
     "data": {
      "text/html": [
       "<div>\n",
       "<style scoped>\n",
       "    .dataframe tbody tr th:only-of-type {\n",
       "        vertical-align: middle;\n",
       "    }\n",
       "\n",
       "    .dataframe tbody tr th {\n",
       "        vertical-align: top;\n",
       "    }\n",
       "\n",
       "    .dataframe thead th {\n",
       "        text-align: right;\n",
       "    }\n",
       "</style>\n",
       "<table border=\"1\" class=\"dataframe\">\n",
       "  <thead>\n",
       "    <tr style=\"text-align: right;\">\n",
       "      <th></th>\n",
       "      <th>Unnamed: 0</th>\n",
       "      <th>itemID</th>\n",
       "      <th>title</th>\n",
       "      <th>author</th>\n",
       "      <th>publisher</th>\n",
       "      <th>main topic</th>\n",
       "      <th>subtopics</th>\n",
       "      <th>language</th>\n",
       "      <th>age</th>\n",
       "    </tr>\n",
       "  </thead>\n",
       "  <tbody>\n",
       "    <tr>\n",
       "      <th>0</th>\n",
       "      <td>0</td>\n",
       "      <td>21310</td>\n",
       "      <td>Princess Poppy: The Big Mix Up</td>\n",
       "      <td>Janey Louise Jones</td>\n",
       "      <td>Penguin Random House Children's UK</td>\n",
       "      <td>YFB</td>\n",
       "      <td>[5AH]</td>\n",
       "      <td>en</td>\n",
       "      <td>1.25</td>\n",
       "    </tr>\n",
       "    <tr>\n",
       "      <th>1</th>\n",
       "      <td>1</td>\n",
       "      <td>73018</td>\n",
       "      <td>Einfach zeichnen! Step by Step</td>\n",
       "      <td>Wiebke Krabbe</td>\n",
       "      <td>Schwager und Steinlein</td>\n",
       "      <td>AGZ</td>\n",
       "      <td>[5AJ, AGZ, WFA, YBG, YBL, YNA, YPA]</td>\n",
       "      <td>de</td>\n",
       "      <td>1</td>\n",
       "    </tr>\n",
       "    <tr>\n",
       "      <th>2</th>\n",
       "      <td>2</td>\n",
       "      <td>19194</td>\n",
       "      <td>Red Queen 1</td>\n",
       "      <td>Victoria Aveyard</td>\n",
       "      <td>Orion Publishing Group</td>\n",
       "      <td>YFH</td>\n",
       "      <td>[5AP, FBA]</td>\n",
       "      <td>en</td>\n",
       "      <td>1.75</td>\n",
       "    </tr>\n",
       "    <tr>\n",
       "      <th>3</th>\n",
       "      <td>3</td>\n",
       "      <td>40250</td>\n",
       "      <td>Meine Kindergarten-Freunde (Pirat)</td>\n",
       "      <td>NaN</td>\n",
       "      <td>Ars Edition GmbH</td>\n",
       "      <td>YB</td>\n",
       "      <td>[5AC, 5AD, YBG, YBL, YF]</td>\n",
       "      <td>de</td>\n",
       "      <td>0</td>\n",
       "    </tr>\n",
       "    <tr>\n",
       "      <th>4</th>\n",
       "      <td>4</td>\n",
       "      <td>46107</td>\n",
       "      <td>Mein großes Schablonen-Buch - Wilde Tiere</td>\n",
       "      <td>Elizabeth Golding</td>\n",
       "      <td>Edition Michael Fischer</td>\n",
       "      <td>WFTM</td>\n",
       "      <td>[WD, WFTM, YBG, YBL, YBLD, YBLN1]</td>\n",
       "      <td>de</td>\n",
       "      <td>0</td>\n",
       "    </tr>\n",
       "  </tbody>\n",
       "</table>\n",
       "</div>"
      ],
      "text/plain": [
       "   Unnamed: 0  itemID                                      title  \\\n",
       "0           0   21310             Princess Poppy: The Big Mix Up   \n",
       "1           1   73018             Einfach zeichnen! Step by Step   \n",
       "2           2   19194                                Red Queen 1   \n",
       "3           3   40250         Meine Kindergarten-Freunde (Pirat)   \n",
       "4           4   46107  Mein großes Schablonen-Buch - Wilde Tiere   \n",
       "\n",
       "               author                           publisher main topic  \\\n",
       "0  Janey Louise Jones  Penguin Random House Children's UK        YFB   \n",
       "1       Wiebke Krabbe              Schwager und Steinlein        AGZ   \n",
       "2    Victoria Aveyard              Orion Publishing Group        YFH   \n",
       "3                 NaN                    Ars Edition GmbH         YB   \n",
       "4   Elizabeth Golding             Edition Michael Fischer       WFTM   \n",
       "\n",
       "                             subtopics language   age  \n",
       "0                                [5AH]       en  1.25  \n",
       "1  [5AJ, AGZ, WFA, YBG, YBL, YNA, YPA]       de     1  \n",
       "2                           [5AP, FBA]       en  1.75  \n",
       "3             [5AC, 5AD, YBG, YBL, YF]       de     0  \n",
       "4    [WD, WFTM, YBG, YBL, YBLD, YBLN1]       de     0  "
      ]
     },
     "execution_count": 54,
     "metadata": {},
     "output_type": "execute_result"
    }
   ],
   "source": [
    "#save as a new csv file\n",
    "result_data = item_data.copy()\n",
    "result_data.drop(['age_identifier','contain_Y'], axis=1, inplace=True)\n",
    "#result_data = result_data.rename(columns={\"age\": \"interest_age\"})\n",
    "result_data.to_csv('../Annotated_Dataset/item_inc_lang_age.csv', index = False)\n",
    "result_data.head()"
   ]
  }
 ],
 "metadata": {
  "colab": {
   "collapsed_sections": [],
   "name": "Data_preprocessing_Interest_Age.ipynb",
   "provenance": []
  },
  "kernelspec": {
   "display_name": "Python 3",
   "language": "python",
   "name": "python3"
  },
  "language_info": {
   "codemirror_mode": {
    "name": "ipython",
    "version": 3
   },
   "file_extension": ".py",
   "mimetype": "text/x-python",
   "name": "python",
   "nbconvert_exporter": "python",
   "pygments_lexer": "ipython3",
   "version": "3.8.6"
  }
 },
 "nbformat": 4,
 "nbformat_minor": 1
}
